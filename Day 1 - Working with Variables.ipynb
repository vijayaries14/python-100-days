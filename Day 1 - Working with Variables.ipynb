{
 "cells": [
  {
   "cell_type": "markdown",
   "id": "dfe4b170",
   "metadata": {},
   "source": [
    "Topics in Day 1\n",
    "\n",
    "- Print Statement\n",
    "- Debugging\n",
    "- Input \n",
    "- Comment\n",
    "- Variables"
   ]
  },
  {
   "cell_type": "code",
   "execution_count": 3,
   "id": "7dae4dd6",
   "metadata": {},
   "outputs": [
    {
     "name": "stdout",
     "output_type": "stream",
     "text": [
      "what is your name? Nothing\n",
      "7\n"
     ]
    }
   ],
   "source": [
    "## Day 1 - Unit 14 - Using Variables to find the length\n",
    "\n",
    "name = input('what is your name? ')\n",
    "length = len(name)\n",
    "print(length)\n",
    "\n"
   ]
  }
 ],
 "metadata": {
  "kernelspec": {
   "display_name": "Python 3 (ipykernel)",
   "language": "python",
   "name": "python3"
  },
  "language_info": {
   "codemirror_mode": {
    "name": "ipython",
    "version": 3
   },
   "file_extension": ".py",
   "mimetype": "text/x-python",
   "name": "python",
   "nbconvert_exporter": "python",
   "pygments_lexer": "ipython3",
   "version": "3.11.4"
  }
 },
 "nbformat": 4,
 "nbformat_minor": 5
}
