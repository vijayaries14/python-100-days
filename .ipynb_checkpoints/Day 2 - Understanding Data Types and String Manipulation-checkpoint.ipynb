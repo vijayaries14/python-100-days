{
 "cells": [
  {
   "cell_type": "markdown",
   "id": "ce9b0413",
   "metadata": {},
   "source": [
    "Topics in Day 2\n",
    "\n",
    "- Datatypes - String, Integer, Float, Boolean\n",
    "- Type() and converting data types\n",
    "- Mathematical operators"
   ]
  },
  {
   "cell_type": "code",
   "execution_count": 6,
   "id": "8e2806ac",
   "metadata": {},
   "outputs": [
    {
     "name": "stdout",
     "output_type": "stream",
     "text": [
      "H\n",
      "123345\n",
      "468\n",
      "123456789\n"
     ]
    }
   ],
   "source": [
    "#String\n",
    "\n",
    "print(\"Hello\"[0]) #Subscripting\n",
    "print(\"123\" + \"345\") #Concatenation\n",
    "\n",
    "#Integer\n",
    "\n",
    "print(123 + 345)\n",
    "print(123_456_789) #python ignores _, but we can use it as a substitute for , \n"
   ]
  },
  {
   "cell_type": "code",
   "execution_count": 14,
   "id": "7e887cb3",
   "metadata": {
    "scrolled": true
   },
   "outputs": [
    {
     "name": "stdout",
     "output_type": "stream",
     "text": [
      "What is your name?\n",
      "sachin chidambaram vijayanand\n",
      "<class 'int'>\n",
      "<class 'str'>\n",
      "Your name has 29 characters\n"
     ]
    }
   ],
   "source": [
    "##Converting datatypes\n",
    "\n",
    "num_char = len(input(\"What is your name?\\n\"))\n",
    "\n",
    "print(type(num_char)) #helps us identify the datatype of a variable\n",
    "\n",
    "new_num_char = str(num_char) #converts int to string\n",
    "\n",
    "print(type(new_num_char))\n",
    "\n",
    "print(\"Your name has \" + new_num_char + \" characters\")"
   ]
  },
  {
   "cell_type": "code",
   "execution_count": 15,
   "id": "b5c751b2",
   "metadata": {},
   "outputs": [
    {
     "name": "stdout",
     "output_type": "stream",
     "text": [
      "9.0\n"
     ]
    }
   ],
   "source": [
    "##Mathematical Operators\n",
    "\n",
    "#PEMDAS (BODMAS)\n",
    "\n",
    "# ()\n",
    "# ** - power\n",
    "# *\n",
    "# /\n",
    "# +\n",
    "# -\n",
    "\n",
    "print(3+3**3/3-3)"
   ]
  }
 ],
 "metadata": {
  "kernelspec": {
   "display_name": "Python 3 (ipykernel)",
   "language": "python",
   "name": "python3"
  },
  "language_info": {
   "codemirror_mode": {
    "name": "ipython",
    "version": 3
   },
   "file_extension": ".py",
   "mimetype": "text/x-python",
   "name": "python",
   "nbconvert_exporter": "python",
   "pygments_lexer": "ipython3",
   "version": "3.11.4"
  }
 },
 "nbformat": 4,
 "nbformat_minor": 5
}
